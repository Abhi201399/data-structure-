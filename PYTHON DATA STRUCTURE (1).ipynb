{
 "cells": [
  {
   "cell_type": "code",
   "execution_count": null,
   "id": "479aeb4e-7610-4f45-ba80-d023b9fe7937",
   "metadata": {},
   "outputs": [],
   "source": [
    "                                     ##>>  Data Types and Structures Questions <<## "
   ]
  },
  {
   "cell_type": "code",
   "execution_count": null,
   "id": "8e7784db-4f47-4af5-a730-add1b5f1f756",
   "metadata": {},
   "outputs": [],
   "source": [
    "##1. What are data structures, and why are they important?\n",
    "##>>\n",
    "data structure >> way of organizing and storing data so that it can be accessed and manupulated effecienctly .\n",
    "data structures are important:>> Efficiency , Organization, Code Readability, Foundation for Algorithms, \n",
    "Problem Solving, Abstraction, Real-world Applications.\n",
    "                                                                            "
   ]
  },
  {
   "cell_type": "code",
   "execution_count": null,
   "id": "81ba2315-112d-428b-908c-6f3c7d65981a",
   "metadata": {},
   "outputs": [],
   "source": [
    "## 2. Explain the difference between mutable and immutable data types with examples.\n",
    "##>>\n",
    "Mutable objects are those whose state can be changed after they are created.\n",
    "Examples of mutable objects include:\n",
    "Lists,Dictionaries,Sets\n",
    "# Mutable example with lists\n",
    "ratings = [1, 2, 3]\n",
    "print(id(ratings)) # Memory address of the list object\n",
    "\n",
    "ratings.append(4)\n",
    "print(id(ratings)) # Same memory address, list modified in place.\n",
    "\n",
    "Immutable objects are those whose state cannot be modified after they are created. \n",
    "Examples of immutable objects include:\n",
    "Numbers (int, float, bool),Strings,Tuples,sets\n",
    "# Immutable example with integers\n",
    "counter = 100\n",
    "print(id(counter)) # Memory address of the integer object\n",
    "\n",
    "counter = 200\n",
    "print(id(counter)) # New memory address for the new integer object"
   ]
  },
  {
   "cell_type": "code",
   "execution_count": null,
   "id": "3e0ef92a-886b-4a03-9f93-885f6271c786",
   "metadata": {},
   "outputs": [],
   "source": [
    "##3.What are the main differences between lists and tuples in Python?\n",
    ">>lists is a mutable & square bracket [] while tuples is immutable & paranthesi ()."
   ]
  },
  {
   "cell_type": "code",
   "execution_count": 29,
   "id": "1d3ea324-f173-449d-9ec4-eb0ae3091d16",
   "metadata": {},
   "outputs": [
    {
     "data": {
      "text/plain": [
       "dict"
      ]
     },
     "execution_count": 29,
     "metadata": {},
     "output_type": "execute_result"
    }
   ],
   "source": [
    "##4.  Describe how dictionaries store data.\n",
    "##>>>\n",
    "dictionaries store data in the form of key value pair.\n",
    "\n",
    "my_dict = {\"abhishek\": 124523, \"rahul\": 452863 , \"suraj\": 42586}\n",
    "type(my_dict)"
   ]
  },
  {
   "cell_type": "code",
   "execution_count": 30,
   "id": "f74f4802-b39f-4323-a931-9b863a1a603f",
   "metadata": {},
   "outputs": [
    {
     "data": {
      "text/plain": [
       "{'abhishek': 124523, 'rahul': 452863, 'suraj': 42586}"
      ]
     },
     "execution_count": 30,
     "metadata": {},
     "output_type": "execute_result"
    }
   ],
   "source": [
    "my_dict"
   ]
  },
  {
   "cell_type": "code",
   "execution_count": 31,
   "id": "e4484b62-82f9-43e1-8045-3cc181dfe162",
   "metadata": {},
   "outputs": [
    {
     "data": {
      "text/plain": [
       "124523"
      ]
     },
     "execution_count": 31,
     "metadata": {},
     "output_type": "execute_result"
    }
   ],
   "source": [
    "my_dict[\"abhishek\"]"
   ]
  },
  {
   "cell_type": "code",
   "execution_count": 33,
   "id": "5f9c24b3-d78a-46ae-8083-0c851c5f80b2",
   "metadata": {},
   "outputs": [
    {
     "data": {
      "text/plain": [
       "{'abhishek': 425682, 'rahul': 452863, 'suraj': 42586}"
      ]
     },
     "execution_count": 33,
     "metadata": {},
     "output_type": "execute_result"
    }
   ],
   "source": [
    "my_dict[\"abhishek\"]= 425682\n",
    "my_dict"
   ]
  },
  {
   "cell_type": "code",
   "execution_count": null,
   "id": "a47cd7f7-4ff0-42e6-80f9-69e55339d68b",
   "metadata": {},
   "outputs": [],
   "source": [
    "##5. Why might you use a set instead of a list in Python?\n",
    "## >>\n",
    "A set in Python is an unordered collection of unique elements, while a list is an ordered\n",
    "collection that can contain duplicates. \n",
    "Sets aren’t really just an \"alternative list\".\n",
    "Their main usage is easy manipulation of data. They allow a lot of operations that lists don’t.\n"
   ]
  },
  {
   "cell_type": "code",
   "execution_count": null,
   "id": "8bb2da20-8722-4fd2-9c2a-16ced0e3e5fe",
   "metadata": {},
   "outputs": [],
   "source": [
    "##6.  What is a string in Python, and how is it different from a list?\n",
    "##>>>\n",
    "In Python, a string is an ordered sequence of characters, represented by characters enclosed in single or double quotes.\n",
    "A list is an ordered collection of items, where each item can be of any data type, enclosed in square brackets. \n",
    "The key difference is that strings are immutable (cannot be changed once created), while lists are mutable (can be modified). "
   ]
  },
  {
   "cell_type": "code",
   "execution_count": null,
   "id": "92f12d17-9eb4-45cc-b687-cc94715eb241",
   "metadata": {},
   "outputs": [],
   "source": [
    "##7. How do tuples ensure data integrity in Python?\n",
    "##>>>\n",
    "Tuples in Python ensure data integrity through their immutability. \n",
    "Once a tuple is created, its elements cannot be modified, added, or removed. \n",
    "This characteristic prevents accidental or unauthorized changes to the data, ensuring that the \n",
    "tuple's contents remain consistent throughout its lifecycle.\n",
    "Immutability makes tuples suitable for storing data that should not be altered, such as database connection \n",
    "settings or configuration parameters.\n",
    "Any attempt to modify a tuple will result in a TypeError, reinforcing its immutability/ tupple \n",
    "object does not item assignment. "
   ]
  },
  {
   "cell_type": "code",
   "execution_count": null,
   "id": "f364879a-5c8a-4711-b13f-c4f4ef2ed205",
   "metadata": {},
   "outputs": [],
   "source": [
    "##8. What is a hash table, and how does it relate to dictionaries in Python?\n",
    "##>>\n",
    "A hash table is a data structure that stores key-value pairs,\n",
    "implementing an associative array or dictionary concept.\n",
    "Python dictionaries are implemented using hash tables.\n",
    "When a key-value pair is added to a dictionary, Python calculates the hash value of the \n",
    "key to determine the index where the value will be stored. "
   ]
  },
  {
   "cell_type": "code",
   "execution_count": null,
   "id": "2b271680-339b-400f-b81b-7e31f10b9acd",
   "metadata": {},
   "outputs": [],
   "source": [
    "##9. Can lists contain different data types in Python?\n",
    "##>> \n",
    "Yes, lists in Python can contain items of different data types like ashoping bag which can store everything .\n",
    "Python lists are versatile and allow for heterogeneous data storage, meaning a single list can hold elements of various types\n",
    "such as integers, floats, strings, booleans, and even other lists, tuples, or dictionaries. "
   ]
  },
  {
   "cell_type": "code",
   "execution_count": null,
   "id": "2e4340d0-e49b-4e57-b44d-08ec65780c1d",
   "metadata": {},
   "outputs": [],
   "source": [
    "##10.  Explain why strings are immutable in Python?\n",
    "##>> \n",
    "Python strings are \"immutable\" which means they cannot be changed after they are created.\n",
    "    \n",
    "name_1 = \"Aarun\" \n",
    "             name_1[0] = 'T' \n",
    "\n",
    "Output: TypeError: 'str' object does not support item assignment.\n",
    "\n",
    "Explanation: We cannot update the string after declaring it means once an immutable the objects instantiated, its value cannot be changed"
   ]
  },
  {
   "cell_type": "code",
   "execution_count": null,
   "id": "e0dfaf8e-6048-4b10-90e2-67947f87ec6a",
   "metadata": {},
   "outputs": [],
   "source": [
    "##11.  What advantages do dictionaries offer over lists for certain tasks?\n",
    "##>>\n",
    "Dictionaries excel over lists in scenarios where efficient lookup by key is crucial. \n",
    "While lists store items sequentially and access them by index, dictionaries use hash tables to store key-value pairs,\n",
    "enabling significantly faster retrieval of values based on their corresponding keys. "
   ]
  },
  {
   "cell_type": "code",
   "execution_count": null,
   "id": "a7d53303-1c5c-4c7f-8577-4fd2c68ac149",
   "metadata": {},
   "outputs": [],
   "source": [
    "##12. Describe a scenario where using a tuple would be preferable over a list.\n",
    "##>> \n",
    "A tuple would be preferable over a list:>>> \n",
    "Tuples are immutable, meaning they can’t be changed. Lists can be changed; that’s one of their key features.\n",
    "So, the most basic difference between them is if you have a sequence of data values and\n",
    "you don’t want them accidentally modified, you would want to use a tuple."
   ]
  },
  {
   "cell_type": "code",
   "execution_count": null,
   "id": "8d91efdd-3c7f-432e-9c4d-ff0aee576754",
   "metadata": {},
   "outputs": [],
   "source": [
    "##13. How do sets handle duplicate values in Python?\n",
    "##>>\n",
    "In Python, sets are designed to store only unordered collections of unique elements. \n",
    "When attempting to add a duplicate value to a set, it is automatically ignored, and the set remains unchanged.\n"
   ]
  },
  {
   "cell_type": "code",
   "execution_count": 36,
   "id": "804a6aca-068f-4c93-8e53-3d96824e96e0",
   "metadata": {},
   "outputs": [
    {
     "name": "stdout",
     "output_type": "stream",
     "text": [
      "{1, 2, 3, 4, 5}\n"
     ]
    }
   ],
   "source": [
    "my_set = {1, 2, 2, 3, 4, 4, 5}\n",
    "print(my_set)  \n",
    "\n"
   ]
  },
  {
   "cell_type": "code",
   "execution_count": 37,
   "id": "5305f23c-1457-4d8c-847f-0b561da3846d",
   "metadata": {},
   "outputs": [
    {
     "name": "stdout",
     "output_type": "stream",
     "text": [
      "[1, 2, 3, 4, 5]\n"
     ]
    }
   ],
   "source": [
    "my_list = [1, 2, 2, 3, 4, 4, 5]\n",
    "unique_list = list(set(my_list))\n",
    "print(unique_list)"
   ]
  },
  {
   "cell_type": "code",
   "execution_count": null,
   "id": "1afd4387-0d62-47f7-8264-b02076776bf2",
   "metadata": {},
   "outputs": [],
   "source": [
    "##14.   How does the “in” keyword work differently for lists and dictionaries?\n",
    "##>>>\n",
    "The \"in\" keyword checks for membership, but its behavior differs between lists and dictionaries in Python.\n",
    "For lists, it checks if a value exists as an element within the list. \n",
    "For dictionaries, it checks if a key exists in the dictionary"
   ]
  },
  {
   "cell_type": "code",
   "execution_count": 38,
   "id": "5b27e93a-b44f-4da7-ba43-b9f8a8a70d36",
   "metadata": {},
   "outputs": [
    {
     "name": "stdout",
     "output_type": "stream",
     "text": [
      "True\n"
     ]
    }
   ],
   "source": [
    "# List example\n",
    "my_list = [1, 2, 3, 4, 5]\n",
    "print(5 in my_list) "
   ]
  },
  {
   "cell_type": "code",
   "execution_count": 39,
   "id": "0cce6e29-f267-4c7a-8097-7e47f7f3fbfb",
   "metadata": {},
   "outputs": [
    {
     "name": "stdout",
     "output_type": "stream",
     "text": [
      "False\n"
     ]
    }
   ],
   "source": [
    "print(6 in my_list) # Output: False"
   ]
  },
  {
   "cell_type": "code",
   "execution_count": 40,
   "id": "c6c754c8-436a-49fa-85fe-0734fa851e1e",
   "metadata": {},
   "outputs": [
    {
     "name": "stdout",
     "output_type": "stream",
     "text": [
      "True\n"
     ]
    }
   ],
   "source": [
    "# Dictionary example\n",
    "my_dict = {'a': 1, 'b': 2, 'c': 3}\n",
    "print('b' in my_dict)"
   ]
  },
  {
   "cell_type": "code",
   "execution_count": 41,
   "id": "cff09904-84b1-4fe9-9a41-859fd9693356",
   "metadata": {},
   "outputs": [
    {
     "name": "stdout",
     "output_type": "stream",
     "text": [
      "False\n"
     ]
    }
   ],
   "source": [
    "print('d' in my_dict) "
   ]
  },
  {
   "cell_type": "code",
   "execution_count": 42,
   "id": "9f8301aa-21ad-4528-b988-dda1c3ce3016",
   "metadata": {},
   "outputs": [
    {
     "name": "stdout",
     "output_type": "stream",
     "text": [
      "False\n"
     ]
    }
   ],
   "source": [
    "print(2 in my_dict) "
   ]
  },
  {
   "cell_type": "code",
   "execution_count": null,
   "id": "4448424c-8955-43a3-9d08-3f1e7327350d",
   "metadata": {},
   "outputs": [],
   "source": [
    "##15. Can you modify the elements of a tuple? Explain why or why not?\n",
    "##>> \n",
    "No, you cannot directly modify the elements of a tuple in Python. \n",
    "Tuples are immutable, meaning their values cannot be changed after they are created. Attempting to modify a tuple will raise a \"TypeError\". \n",
    "Tuples are designed for storing a sequence of elements that should not be altered after their initial creation. \n",
    "This immutability is a key characteristic that distinguishes tuples from lists, which are mutable. \n",
    "    "
   ]
  },
  {
   "cell_type": "code",
   "execution_count": 48,
   "id": "5592b8bc-cc21-4a5d-a5f0-0ae074bda608",
   "metadata": {},
   "outputs": [
    {
     "name": "stdout",
     "output_type": "stream",
     "text": [
      "{1: {'name': 'John', 'age': '27', 'sex': 'Male'}, 2: {'name': 'Marie', 'age': '22', 'sex': 'Female'}}\n"
     ]
    }
   ],
   "source": [
    "##16.  What is a nested dictionary, and give an example of its use case?\n",
    "##>> \n",
    "nested dictionary is a dictionary inside a dictionary. It's a collection of dictionaries into one single dictionary.\n",
    " #Ex>> \n",
    "\n",
    "people = {1: {'name': 'John', 'age': '27', 'sex': 'Male'},\n",
    "          2: {'name': 'Marie', 'age': '22', 'sex': 'Female'}}\n",
    "\n",
    "print(people)\n"
   ]
  },
  {
   "cell_type": "code",
   "execution_count": null,
   "id": "4e0072c5-7ea2-49ab-9efd-4b70ae843bf5",
   "metadata": {},
   "outputs": [],
   "source": [
    "##17.  Describe the time complexity of accessing elements in a dictionary.\n",
    "##>>\n",
    "The time complexity of accessing a dictionary in Python is generally considered to be O(1), or constant time.\n",
    "This means that regardless of the size of the dictionary, the time it takes to access a value remains constant.\n",
    "However, this assumes that the hash function used by Python is well-distributed and avoids collisions as much as possible.\n",
    "\n",
    "# Example of dictionary access\n",
    "my_dict = {'apple': 1, 'banana': 2, 'cherry': 3}\n",
    "print(my_dict['banana'])  \n",
    "#output : 2\n",
    "in the above example, accessing the value associated with the key ‘banana’ takes constant time, \n",
    "regardless of the size of the dictionary. This is because the hash value of ‘banana’ \n",
    "is used to directly locate the bucket where the value is stored."
   ]
  },
  {
   "cell_type": "code",
   "execution_count": 43,
   "id": "09357a29-3600-4829-80c8-a0e220b8014e",
   "metadata": {},
   "outputs": [
    {
     "name": "stdout",
     "output_type": "stream",
     "text": [
      "2\n"
     ]
    }
   ],
   "source": [
    "#Accessing a value from a dictionary using a key:\n",
    "my_dict = {'a': 1, 'b': 2, 'c': 3}\n",
    "value = my_dict['b']\n",
    "print(value)  "
   ]
  },
  {
   "cell_type": "code",
   "execution_count": 44,
   "id": "96023ea1-1a1c-4892-a0ea-76f0d827f430",
   "metadata": {},
   "outputs": [
    {
     "name": "stdout",
     "output_type": "stream",
     "text": [
      "2\n"
     ]
    }
   ],
   "source": [
    "#Accessing a value from a nested dictionary:\n",
    "my_dict = {'a': {'x': 1, 'y': 2}, 'b': {'x': 3, 'y': 4}}\n",
    "value = my_dict['a']['y']\n",
    "print(value)  "
   ]
  },
  {
   "cell_type": "code",
   "execution_count": 45,
   "id": "9c6409fb-a7d9-4ac8-b57b-2274af5ef839",
   "metadata": {},
   "outputs": [
    {
     "name": "stdout",
     "output_type": "stream",
     "text": [
      "2\n"
     ]
    }
   ],
   "source": [
    "#Accessing a value from a dictionary using the get() method:\n",
    "my_dict = {'a': 1, 'b': 2, 'c': 3}\n",
    "value = my_dict.get('b')\n",
    "print(value)  "
   ]
  },
  {
   "cell_type": "code",
   "execution_count": null,
   "id": "ab422ae3-eeeb-498d-8dd9-9e04a0df33ad",
   "metadata": {},
   "outputs": [],
   "source": [
    "##18.  In what situations are lists preferred over dictionaries?\n",
    "##>>\n",
    "Lists are preferred over dictionaries when the order of items is crucial, \n",
    "or when you need to perform operations like appending and extending, which are not as efficient with dictionaries.\n",
    "Lists are also better suited for ordered collections and sequence operations like stacks or queues"
   ]
  },
  {
   "cell_type": "code",
   "execution_count": null,
   "id": "c133fc17-7f48-4be0-b228-c0ddaad89248",
   "metadata": {},
   "outputs": [],
   "source": [
    "##19.  Why are dictionaries considered unordered, and how does that affect data retrieval?\n",
    "##>>\n",
    "A dictionary is termed an unordered collection of objects because dictionaries do not maintain any \n",
    "inherent order of the items based on when they were added.\n",
    "Dictionaries enhance data retrieval by offering efficient key-value mapping,\n",
    "enabling fast lookups and modifications due to their optimized structure."
   ]
  },
  {
   "cell_type": "code",
   "execution_count": null,
   "id": "17d733ef-5fda-4731-bcd8-8cbc12a6d671",
   "metadata": {},
   "outputs": [],
   "source": [
    "##20. Explain the difference between a list and a dictionary in terms of data retrieval.\n",
    "##>>\n",
    "Lists: Use lists when the order of elements is important, when you need to access elements using numerical indices,\n",
    "or when duplicate values are allowed.\n",
    "Lists are ideal for scenarios where you need to maintain a sequence of elements and perform operations like sorting or slicing.\n",
    "\n",
    "Dictionaries: Use dictionaries when you need to store data in key-value pairs, perform fast lookups, or ensure that keys are unique.\n",
    "Dictionaries are suitable for scenarios where you need to map unique keys to values, such as storing user information or configuration settings.\n",
    "\n",
    "Example Comparisons\n",
    "\n",
    "Creating a List and Dictionary:\n",
    "port time\n",
    "\n",
    "# Creating a List\n",
    "t1 = time.time()\n",
    "myList = [i for i in range(1000000)]\n",
    "t2 = time.time()\n",
    "print(\"Time taken to create List:\", t2-t1, \"seconds\")\n",
    "\n",
    "# Creating a Dictionary\n",
    "t1 = time.time()\n",
    "myDict = {i: i for i in range(1000000)}\n",
    "t2 = time.time()\n",
    "print(\"Time taken to create Dictionary:\", t2-t1, \"seconds\""
   ]
  },
  {
   "cell_type": "code",
   "execution_count": null,
   "id": "c3f134d7-e122-4bf4-8165-22f246169d4c",
   "metadata": {},
   "outputs": [],
   "source": [
    "                                      ##>>Practical Questions<<##"
   ]
  },
  {
   "cell_type": "code",
   "execution_count": 49,
   "id": "929c6868-272a-4355-99e9-625cb68c81a6",
   "metadata": {},
   "outputs": [
    {
     "data": {
      "text/plain": [
       "'abhishek'"
      ]
     },
     "execution_count": 49,
     "metadata": {},
     "output_type": "execute_result"
    }
   ],
   "source": [
    "##1. Write a code to create a string with your name and print it.\n",
    "s= (\"abhishek\")\n",
    "s"
   ]
  },
  {
   "cell_type": "code",
   "execution_count": 50,
   "id": "f389baa0-7031-4ef9-adcf-d93527bf247e",
   "metadata": {},
   "outputs": [
    {
     "data": {
      "text/plain": [
       "str"
      ]
     },
     "execution_count": 50,
     "metadata": {},
     "output_type": "execute_result"
    }
   ],
   "source": [
    "type(s)"
   ]
  },
  {
   "cell_type": "code",
   "execution_count": 51,
   "id": "0a04bf7a-243b-4d08-9967-d18683c72461",
   "metadata": {},
   "outputs": [
    {
     "name": "stdout",
     "output_type": "stream",
     "text": [
      "11\n"
     ]
    }
   ],
   "source": [
    "##2. Write a code to find the length of the string \"Hello World\".\n",
    "string = \"hello world\"\n",
    "length = len(string)\n",
    "print(length)"
   ]
  },
  {
   "cell_type": "code",
   "execution_count": 52,
   "id": "798cccd9-210e-4cdc-b4a9-c53288350ca9",
   "metadata": {},
   "outputs": [
    {
     "name": "stdout",
     "output_type": "stream",
     "text": [
      "pyt\n"
     ]
    }
   ],
   "source": [
    "##3. Write a code to slice the first 3 characters from the string \"Python Programming\"\n",
    "original_string = \"python programming\"\n",
    "sliced_string = original_string[:3]\n",
    "print(sliced_string)\n"
   ]
  },
  {
   "cell_type": "code",
   "execution_count": 54,
   "id": "1525a1b9-8c98-4e0b-8e75-785bee1d7651",
   "metadata": {},
   "outputs": [
    {
     "name": "stdout",
     "output_type": "stream",
     "text": [
      "HELLO\n"
     ]
    }
   ],
   "source": [
    "##4. Write a code to convert the string \"hello\" to uppercase.string = \"hello\"\n",
    "string = \"hello\"\n",
    "uppercase_string = string.upper()\n",
    "print(uppercase_string)\n"
   ]
  },
  {
   "cell_type": "code",
   "execution_count": 55,
   "id": "a2aa2daa-b352-42d0-aa40-1203768403bd",
   "metadata": {},
   "outputs": [
    {
     "name": "stdout",
     "output_type": "stream",
     "text": [
      "I like orange\n"
     ]
    }
   ],
   "source": [
    "##5. Write a code to replace the word \"apple\" with \"orange\" in the string \"I like apple\"\n",
    "original_string = \"I like apple\"\n",
    "new_string = original_string.replace(\"apple\", \"orange\")\n",
    "print(new_string)\n"
   ]
  },
  {
   "cell_type": "code",
   "execution_count": 56,
   "id": "2bf0e174-7f6a-4d7a-a1ea-6b44f0c9eb32",
   "metadata": {},
   "outputs": [
    {
     "name": "stdout",
     "output_type": "stream",
     "text": [
      "[1, 2, 3, 4, 5]\n"
     ]
    }
   ],
   "source": [
    "##6.# Create a list with numbers from 1 to 5\n",
    "numbers = [1, 2, 3, 4, 5]\n",
    "print(numbers)\n",
    " \n"
   ]
  },
  {
   "cell_type": "code",
   "execution_count": 58,
   "id": "58f31458-0e14-4423-9714-08479aa33323",
   "metadata": {},
   "outputs": [
    {
     "data": {
      "text/plain": [
       "[1, 2, 3, 4, 10]"
      ]
     },
     "execution_count": 58,
     "metadata": {},
     "output_type": "execute_result"
    }
   ],
   "source": [
    "##7. Write a code to append the number 10 to the list [1, 2, 3, 4].\n",
    "number = [1,2,3,4]\n",
    "# adding element to the list \n",
    "number.append(10)\n",
    "number"
   ]
  },
  {
   "cell_type": "code",
   "execution_count": 59,
   "id": "cd48a8b8-cf85-4ee5-83d3-622619d94804",
   "metadata": {},
   "outputs": [
    {
     "data": {
      "text/plain": [
       "[1, 2, 4, 5]"
      ]
     },
     "execution_count": 59,
     "metadata": {},
     "output_type": "execute_result"
    }
   ],
   "source": [
    "##8. Write a code to remove the number 3 from the list [1, 2, 3, 4, 5].\n",
    "list = [1,2,3,4,5]\n",
    "list.remove(3)\n",
    "list"
   ]
  },
  {
   "cell_type": "code",
   "execution_count": 63,
   "id": "c1a34a5a-6965-4e33-b92a-d60d62b93903",
   "metadata": {},
   "outputs": [
    {
     "name": "stdout",
     "output_type": "stream",
     "text": [
      "b\n"
     ]
    }
   ],
   "source": [
    "##9. Write a code to access the second element in the list ['a', 'b', 'c', 'd'].\n",
    "list = ['a', 'b', 'c' , 'd']\n",
    "second_element = list[1]\n",
    "print(second_element)\n"
   ]
  },
  {
   "cell_type": "code",
   "execution_count": 75,
   "id": "3602ab30-ea34-424f-b311-148e2b009ca4",
   "metadata": {},
   "outputs": [
    {
     "name": "stdout",
     "output_type": "stream",
     "text": [
      "Reversed List: [50, 40, 30, 20, 10]\n"
     ]
    }
   ],
   "source": [
    "##10. Write a code to reverse the list [10, 20, 30, 40, 50].\n",
    "# Original list\n",
    "original_list = [10, 20, 30, 40, 50]\n",
    "\n",
    "# Reversing the list\n",
    "reversed_list = original_list[::-1]\n",
    "\n",
    "# Printing the reversed list\n",
    "print(\"Reversed List:\", reversed_list)\n"
   ]
  },
  {
   "cell_type": "code",
   "execution_count": 1,
   "id": "73ad946d-d32f-4fea-8878-3307e1ba195f",
   "metadata": {},
   "outputs": [
    {
     "name": "stdout",
     "output_type": "stream",
     "text": [
      "(100, 200, 300)\n"
     ]
    }
   ],
   "source": [
    "##11. Write a code to create a tuple with the elements 100, 200, 300 and print it.\n",
    "\n",
    "number= (100,200,300)\n",
    "print(number)"
   ]
  },
  {
   "cell_type": "code",
   "execution_count": 2,
   "id": "3c5a67dc-6392-4f7a-a89a-abd43b26261a",
   "metadata": {},
   "outputs": [
    {
     "data": {
      "text/plain": [
       "tuple"
      ]
     },
     "execution_count": 2,
     "metadata": {},
     "output_type": "execute_result"
    }
   ],
   "source": [
    "type(number)"
   ]
  },
  {
   "cell_type": "code",
   "execution_count": null,
   "id": "2baf5ef9-55bf-48e3-ab92-660919220edb",
   "metadata": {},
   "outputs": [],
   "source": [
    "##12. Write a code to access the second-to-last element of the tuple ('red', 'green', 'blue', 'yellow')."
   ]
  },
  {
   "cell_type": "code",
   "execution_count": 11,
   "id": "245a0ebb-62fb-4978-9e74-fed99df827c4",
   "metadata": {},
   "outputs": [],
   "source": [
    " colors= ('red', 'green', 'blue', 'yellow')."
   ]
  },
  {
   "cell_type": "code",
   "execution_count": 13,
   "id": "35495df8-20b1-4ef9-9c1c-e0d2427210e4",
   "metadata": {},
   "outputs": [
    {
     "name": "stdout",
     "output_type": "stream",
     "text": [
      "blue\n"
     ]
    }
   ],
   "source": [
    "second_to_last_color = colors[-2]\n",
    "print(second_to_last_color)"
   ]
  },
  {
   "cell_type": "code",
   "execution_count": null,
   "id": "6e6ef773-89f3-409c-a0f0-068dd48efae1",
   "metadata": {},
   "outputs": [],
   "source": [
    "##13. Write a code to find the minimum number in the tuple (10, 20, 5, 15).."
   ]
  },
  {
   "cell_type": "code",
   "execution_count": 14,
   "id": "d5eddcf4-149d-46dd-9ba8-e6df0ac6debf",
   "metadata": {},
   "outputs": [
    {
     "name": "stdout",
     "output_type": "stream",
     "text": [
      "5\n"
     ]
    }
   ],
   "source": [
    "my_tuple = (10, 20, 5, 15)\n",
    "min_number = min(my_tuple)\n",
    "print(min_number)"
   ]
  },
  {
   "cell_type": "code",
   "execution_count": null,
   "id": "34a2925d-21be-401c-8a7f-69e7192194e9",
   "metadata": {},
   "outputs": [],
   "source": [
    "##14. Write a code to find the index of the element \"cat\" in the tuple ('dog', 'cat', 'rabbit')."
   ]
  },
  {
   "cell_type": "code",
   "execution_count": 15,
   "id": "4c930895-8a66-4099-ace7-1d6c81ba0579",
   "metadata": {},
   "outputs": [
    {
     "name": "stdout",
     "output_type": "stream",
     "text": [
      "The index of 'cat' in the tuple is: 1\n"
     ]
    }
   ],
   "source": [
    "my_tuple = ('dog', 'cat', 'rabbit')\n",
    "\n",
    "index_of_cat = my_tuple.index('cat')\n",
    "\n",
    "print(f\"The index of 'cat' in the tuple is: {index_of_cat}\")"
   ]
  },
  {
   "cell_type": "code",
   "execution_count": null,
   "id": "7f186f11-bfd8-42b9-9c1f-333795a707b2",
   "metadata": {},
   "outputs": [],
   "source": [
    "##15. Write a code to create a tuple containing three different fruits and check if \"kiwi\" is in it."
   ]
  },
  {
   "cell_type": "code",
   "execution_count": null,
   "id": "894a6fbf-2706-4c6a-9564-032c49862154",
   "metadata": {},
   "outputs": [],
   "source": [
    "my_tuple = ( \"apple\", \"kiwi\", \"orange\" )"
   ]
  },
  {
   "cell_type": "code",
   "execution_count": 23,
   "id": "c5ec17eb-8a40-4f07-9e36-873c68e7033b",
   "metadata": {},
   "outputs": [
    {
     "data": {
      "text/plain": [
       "1"
      ]
     },
     "execution_count": 23,
     "metadata": {},
     "output_type": "execute_result"
    }
   ],
   "source": [
    "(my_tuple[-1])"
   ]
  },
  {
   "cell_type": "code",
   "execution_count": 76,
   "id": "dd32bba3-168c-4511-aeea-2d5cc55e3258",
   "metadata": {},
   "outputs": [
    {
     "data": {
      "text/plain": [
       "{'a', 'b', 'c'}"
      ]
     },
     "execution_count": 76,
     "metadata": {},
     "output_type": "execute_result"
    }
   ],
   "source": [
    "##16. Write a code to create a set with the elements 'a', 'b', 'c' and print it.\n",
    "s= {'a', 'b', 'c','a', 'c' , 'a' , 'b'}\n",
    "s"
   ]
  },
  {
   "cell_type": "code",
   "execution_count": 80,
   "id": "c6b990ce-d0a8-4001-8884-c7465741cea5",
   "metadata": {},
   "outputs": [
    {
     "name": "stdout",
     "output_type": "stream",
     "text": [
      "set()\n"
     ]
    }
   ],
   "source": [
    "##17. Write a code to clear all elements from the set {1, 2, 3, 4, 5}.\n",
    "s# Define the set\n",
    "my_set = {1, 2, 3, 4, 5}\n",
    "\n",
    "# Clear all elements from the set\n",
    "my_set.clear()\n",
    "\n",
    "# Print the set to verify it's empty\n",
    "print(my_set)\n"
   ]
  },
  {
   "cell_type": "code",
   "execution_count": 81,
   "id": "0af38a70-78c0-4436-aaf1-4c2ccdfded5a",
   "metadata": {},
   "outputs": [
    {
     "data": {
      "text/plain": [
       "{1, 2, 3, 5}"
      ]
     },
     "execution_count": 81,
     "metadata": {},
     "output_type": "execute_result"
    }
   ],
   "source": [
    "##18. Write a code to remove the element 4 from the set {1, 2, 3, 4}.\n",
    "# Define the set\n",
    "my_set = {1, 2, 3, 4, 5}\n",
    "my_set.remove(4)\n",
    "my_set\n"
   ]
  },
  {
   "cell_type": "code",
   "execution_count": 82,
   "id": "b365cb10-23b7-4239-a5cc-7a68735275c5",
   "metadata": {},
   "outputs": [
    {
     "name": "stdout",
     "output_type": "stream",
     "text": [
      "Union of the sets: {1, 2, 3, 4, 5}\n"
     ]
    }
   ],
   "source": [
    "##19. Write a code to find the union of two sets {1, 2, 3} and {3, 4, 5}.\n",
    "# define the sets \n",
    "set1 = {1, 2, 3}\n",
    "set2 = {3, 4, 5}\n",
    "\n",
    "# Find the union of the two sets\n",
    "union_set = set1.union(set2)\n",
    "\n",
    "# Print the result\n",
    "print(\"Union of the sets:\", union_set)\n"
   ]
  },
  {
   "cell_type": "code",
   "execution_count": 83,
   "id": "22e5d9f9-60bf-4f6d-9d7c-dc6726a94c91",
   "metadata": {},
   "outputs": [
    {
     "name": "stdout",
     "output_type": "stream",
     "text": [
      "{2, 3}\n"
     ]
    }
   ],
   "source": [
    "##20. Write a code to find the intersection of two sets {1, 2, 3} and {2, 3, 4}.\n",
    "# defin the sets\n",
    "set1 = {1, 2, 3}\n",
    "set2 = {2, 3, 4}\n",
    "\n",
    "# Find the intersection\n",
    "intersection_set = set1.intersection(set2)\n",
    "\n",
    "# Print the result\n",
    "print(intersection_set)"
   ]
  },
  {
   "cell_type": "code",
   "execution_count": 85,
   "id": "b393f3b5-83c9-42e2-936e-f3ee563dddce",
   "metadata": {},
   "outputs": [
    {
     "name": "stdout",
     "output_type": "stream",
     "text": [
      "{'name': 'John Doe', 'age': 30, 'city': 'New York'}\n"
     ]
    }
   ],
   "source": [
    "##21. Write a code to create a dictionary with the keys \"name\", \"age\", and \"city\", and print it.\n",
    "# Creating the dictionary\n",
    "person_info = { \"name\": \"John Doe\", \"age\": 30,\"city\": \"New York\"}\n",
    "\n",
    "# Printing the dictionary\n",
    "print(person_info)\n"
   ]
  },
  {
   "cell_type": "code",
   "execution_count": 87,
   "id": "095f32a9-b1c0-4630-b5b6-9ef1c7997720",
   "metadata": {},
   "outputs": [
    {
     "name": "stdout",
     "output_type": "stream",
     "text": [
      "{'name': 'John', 'age': 25, 'country': 'USA'}\n"
     ]
    }
   ],
   "source": [
    "##22. Write a code to add a new key-value pair \"country\": \"USA\" to the dictionary {'name': 'John', 'age': 25}.\n",
    "\n",
    "person_info = {\"name\": \"John\",\"age\": 25}\n",
    "# Adding a new key-value pair\n",
    "person_info[\"country\"] = \"USA\"\n",
    "# Printing the updated dictionary\n",
    "print(person_info)"
   ]
  },
  {
   "cell_type": "code",
   "execution_count": 88,
   "id": "fe076a2e-3fd1-4846-a498-d66d48ab17c6",
   "metadata": {},
   "outputs": [
    {
     "data": {
      "text/plain": [
       "'Alice'"
      ]
     },
     "execution_count": 88,
     "metadata": {},
     "output_type": "execute_result"
    }
   ],
   "source": [
    "##23. Write a code to access the value associated with the key \"name\" in the dictionary {'name': 'Alice', 'age': 30}.\n",
    "# Access the value associated with the key \"name\"\n",
    "person = {\"name\": \"Alice\",\"age\": 30 }\n",
    "person['name']\n"
   ]
  },
  {
   "cell_type": "code",
   "execution_count": 92,
   "id": "f1df75dd-49cc-4475-81b2-305e64a68875",
   "metadata": {},
   "outputs": [
    {
     "name": "stdout",
     "output_type": "stream",
     "text": [
      "{'name': 'bob', 'city': 'new york'}\n"
     ]
    }
   ],
   "source": [
    "##24. Write a code to remove the key \"age\" from the dictionary {'name': 'Bob', 'age': 22, 'city': 'New York'}.\n",
    "dict = { \"name\": \"bob\",\"age\": 22,\"city\": \"new york\"}\n",
    "\n",
    "# Remove the key 'age'\n",
    "dict.pop(\"age\")\n",
    "\n",
    "# Print the updated dictionary\n",
    "print(dict)"
   ]
  },
  {
   "cell_type": "code",
   "execution_count": 93,
   "id": "6f9240f9-bc4d-41a6-92e7-f6337de23068",
   "metadata": {},
   "outputs": [
    {
     "name": "stdout",
     "output_type": "stream",
     "text": [
      "The key 'city' exists in the dictionary.\n"
     ]
    }
   ],
   "source": [
    "##25. Write a code to check if the key \"city\" exists in the dictionary {'name': 'Alice', 'city': 'Paris'}.\n",
    "# Define the dictionary\n",
    "alice = {\"name\": \"Alice\",\"city\": \"Paris\"}\n",
    "\n",
    "# Check if the key 'city' exists in the dictionary\n",
    "if \"city\" in alice:\n",
    "    print(\"The key 'city' exists in the dictionary.\")"
   ]
  },
  {
   "cell_type": "code",
   "execution_count": 94,
   "id": "783fe384-a71e-4133-bd69-082e81f978fa",
   "metadata": {},
   "outputs": [
    {
     "name": "stdout",
     "output_type": "stream",
     "text": [
      "List: [1, 2, 3, 4, 5]\n",
      "Tuple: ('apple', 'banana', 'cherry')\n",
      "Dictionary: {'name': 'Alice', 'age': 30, 'city': 'Wonderland'}\n"
     ]
    }
   ],
   "source": [
    "##26. Write a code to create a list, a tuple, and a dictionary, and print them all.\n",
    "\n",
    "# Creating a list\n",
    "my_list = [1, 2, 3, 4, 5]\n",
    "\n",
    "# Creating a tuple\n",
    "my_tuple = ('apple', 'banana', 'cherry')\n",
    "\n",
    "# Creating a dictionary\n",
    "my_dict = {'name': 'Alice','age': 30,'city': 'Wonderland'}\n",
    "\n",
    "# Printing the list, tuple, and dictionary\n",
    "print(\"List:\", my_list)\n",
    "print(\"Tuple:\", my_tuple)\n",
    "print(\"Dictionary:\", my_dict)"
   ]
  },
  {
   "cell_type": "code",
   "execution_count": 99,
   "id": "cca4cc61-8b0b-491d-99e9-447f36390ba9",
   "metadata": {},
   "outputs": [
    {
     "name": "stdout",
     "output_type": "stream",
     "text": [
      "Random numbers: [2, 73, 38, 97, 39]\n",
      "Sorted numbers: [2, 38, 39, 73, 97]\n"
     ]
    }
   ],
   "source": [
    "##27. Write a code to create a list of 5 random numbers between 1 and 100, sort it in ascending order, and print the result.(replaced)\n",
    "\n",
    "import random\n",
    "\n",
    "# Generate a list of 5 random numbers between 1 and 100\n",
    "random_numbers = random.sample(range(1, 101), 5)\n",
    "\n",
    "# Sort the list in ascending order\n",
    "sorted_numbers = sorted(random_numbers)\n",
    "\n",
    "# Print the result\n",
    "print(\"Random numbers:\", random_numbers)\n",
    "print(\"Sorted numbers:\", sorted_numbers)\n",
    "\n"
   ]
  },
  {
   "cell_type": "code",
   "execution_count": 100,
   "id": "0d30d379-816b-46e8-a156-477ab56cc432",
   "metadata": {},
   "outputs": [
    {
     "name": "stdout",
     "output_type": "stream",
     "text": [
      "date\n"
     ]
    }
   ],
   "source": [
    "##28. Write a code to create a list with strings and print the element at the third index.\n",
    "\n",
    "# Create a list with strings\n",
    "my_list = [\"apple\", \"banana\", \"cherry\", \"date\", \"elderberry\"]\n",
    "\n",
    "# Print the element at the third index\n",
    "print(my_list[3])\n"
   ]
  },
  {
   "cell_type": "code",
   "execution_count": 101,
   "id": "c48368d9-f647-47f3-881c-59004be431be",
   "metadata": {},
   "outputs": [
    {
     "name": "stdout",
     "output_type": "stream",
     "text": [
      "{'a': 1, 'b': 2, 'c': 3, 'd': 4}\n"
     ]
    }
   ],
   "source": [
    "##29. Write a code to combine two dictionaries into one and print the result.\n",
    "\n",
    "dict1 = {'a': 1, 'b': 2}\n",
    "dict2 = {'c': 3, 'd': 4}\n",
    "\n",
    "# Combine dictionaries using update()\n",
    "dict1.update(dict2)\n",
    "\n",
    "# Print the result\n",
    "print(dict1)\n"
   ]
  },
  {
   "cell_type": "code",
   "execution_count": 102,
   "id": "29c4543a-2a42-4a82-ae7c-523c9238fd67",
   "metadata": {},
   "outputs": [
    {
     "name": "stdout",
     "output_type": "stream",
     "text": [
      "{'banana', 'apple', 'cherry'}\n"
     ]
    }
   ],
   "source": [
    "##30. Write a code to convert a list of strings into a set.\n",
    "\n",
    "\n",
    "# Define the list of strings\n",
    "string_list = [\"apple\", \"banana\", \"cherry\", \"apple\", \"banana\"]\n",
    "\n",
    "# Convert the list to a set\n",
    "string_set = set(string_list)\n",
    "\n",
    "print(string_set)\n"
   ]
  },
  {
   "cell_type": "code",
   "execution_count": null,
   "id": "329bc8e2-da81-4d94-b8e8-7066a699f3eb",
   "metadata": {},
   "outputs": [],
   "source": []
  }
 ],
 "metadata": {
  "kernelspec": {
   "display_name": "Python 3 (ipykernel)",
   "language": "python",
   "name": "python3"
  },
  "language_info": {
   "codemirror_mode": {
    "name": "ipython",
    "version": 3
   },
   "file_extension": ".py",
   "mimetype": "text/x-python",
   "name": "python",
   "nbconvert_exporter": "python",
   "pygments_lexer": "ipython3",
   "version": "3.12.7"
  }
 },
 "nbformat": 4,
 "nbformat_minor": 5
}
