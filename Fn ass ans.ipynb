{
 "cells": [
  {
   "cell_type": "code",
   "execution_count": null,
   "id": "d3ca4a24-be1a-4fa5-bdc0-047342f9344a",
   "metadata": {},
   "outputs": [],
   "source": [
    "# 1. What is the difference between a function and a method in Python?\n",
    "#                           Methods vs Functions in Python\n",
    "Functions in Python\t                                             Methods in Python\n",
    "Functions are outside a class.\t                                 Methods are created inside a class.\n",
    "Functions are not linked to anything.\t                         Methods are linked with the classes they are created in.\n",
    "Functions can be executed just by calling with its name .    \t To execute methods, we need to use either an object name or \n",
    "                                                                     class name and a dot operator.\n",
    "Functions can have zero parameters.\t                             Methods should have a default parameter either self or \n",
    "                                                                    cls to get the object’s or class’s address.\n",
    "Functions can not access or modify class attributes.\t         Methods can access and modify class attributes.\n",
    "Functions are independent of classes.\t                         Methods are dependent on classes.\n"
   ]
  },
  {
   "cell_type": "code",
   "execution_count": 6,
   "id": "265474fb-84e4-445c-b00d-a83e68d27477",
   "metadata": {},
   "outputs": [
    {
     "name": "stdout",
     "output_type": "stream",
     "text": [
      "3\n"
     ]
    }
   ],
   "source": [
    "# 2. Explain the concept of function arguments and parameters in Python.\n",
    "\n",
    " #>> Parameters\n",
    "# A parameter is the variable defined within the parentheses when we declare a function. \n",
    "#>>Example:\n",
    "# Here a,b are the parameters\n",
    "def sum(a,b):\n",
    "  print(a+b)\n",
    "  \n",
    "sum(1,2)"
   ]
  },
  {
   "cell_type": "code",
   "execution_count": 8,
   "id": "e19d92ef-36c9-46d3-b354-957a4bfe196b",
   "metadata": {},
   "outputs": [
    {
     "name": "stdout",
     "output_type": "stream",
     "text": [
      "3\n"
     ]
    }
   ],
   "source": [
    "#>> Arguments\n",
    "# An argument is a value that is passed to a function when it is called. It might be a variable, value or object passed to a function or method as input.\n",
    "\n",
    "#>>Example:\n",
    "def sum(a,b):\n",
    "  print(a+b)\n",
    "  \n",
    "# Here the values 1,2 are arguments\n",
    "sum(1,2)"
   ]
  },
  {
   "cell_type": "code",
   "execution_count": null,
   "id": "b8fa35ae-28f3-4f36-a07d-34cbadba19ec",
   "metadata": {},
   "outputs": [],
   "source": [
    "# 3. What are the different ways to define and call a function in Python?\n",
    "\n",
    "#In Python, defining and calling functions is simple and may greatly improve the readability and reusability of our code.\n",
    "#>>>Defining a Function\n",
    "By using the word def keyword followed by the function's name and \n",
    "parentheses () we can define a function. If the function takes any arguments, they are included inside the parentheses. \n",
    "The code inside a function must be indented after the colon to indicate it belongs to that function.\n",
    "#>>>Calling a Function\n",
    "To call a function in Python, we definitely type the name of the function observed via parentheses (). \n",
    "If the function takes any arguments, they may be covered within the parentheses . Below is the example for calling def function Python.\n",
    "Example:"
   ]
  },
  {
   "cell_type": "code",
   "execution_count": 9,
   "id": "6ba30fe3-c6ee-4ba8-96aa-94438a6baeba",
   "metadata": {},
   "outputs": [
    {
     "name": "stdout",
     "output_type": "stream",
     "text": [
      "Welcome to GFG\n",
      "Alice 21\n"
     ]
    }
   ],
   "source": [
    "def fun():\n",
    "    print(\"Welcome to GFG\")\n",
    "#calling a function \n",
    "fun()\n",
    "    \n",
    "# Defining a function with parameters    \n",
    "def greet(name, age): \n",
    "    print(name, age)\n",
    "    \n",
    "#calling a function by passing arguments\n",
    "greet(\"Alice\",21)"
   ]
  },
  {
   "cell_type": "code",
   "execution_count": null,
   "id": "ea27cdb7-875a-41ba-8b9a-e9dc02712b53",
   "metadata": {},
   "outputs": [],
   "source": [
    "# 4. What is the purpose of the `return` statement in a Python function?\n",
    "#>>A return statement is used to end the execution of the function call and \n",
    "it “returns” the value of the expression following the return keyword to the caller.\n",
    "The statements after the return statements are not executed. If the return statement is without any expression, then the special \n",
    "value None is returned. A return statement is overall used to invoke a function so that the passed statements can be executed.\n"
   ]
  },
  {
   "cell_type": "code",
   "execution_count": 13,
   "id": "ac51f724-54d1-4f18-a2d2-997f01931e90",
   "metadata": {},
   "outputs": [
    {
     "data": {
      "text/plain": [
       "8"
      ]
     },
     "execution_count": 13,
     "metadata": {},
     "output_type": "execute_result"
    }
   ],
   "source": [
    "def add(a, b):\n",
    "    return a + b\n",
    "\n",
    "add(5, 3)\n"
   ]
  },
  {
   "cell_type": "code",
   "execution_count": null,
   "id": "1efd2c5b-a04e-49af-bf32-02eeb4720fca",
   "metadata": {},
   "outputs": [],
   "source": [
    "# 5. What are iterators in Python and how do they differ from iterables?\n",
    "#Iterable is an object, that one can iterate over. It generates an Iterator when passed to iter() method.\n",
    "An iterator is an object, which is used to iterate over an iterable object using the __next__() method. Iterators have the __next__() method,\n",
    "which returns the next item of the object.\n",
    "\n",
    "Note: Every iterator is also an iterable, but not every iterable is an iterator in Python."
   ]
  },
  {
   "cell_type": "code",
   "execution_count": null,
   "id": "c00e3e83-f8de-4971-8cae-e91cbdab4a67",
   "metadata": {},
   "outputs": [],
   "source": [
    "#6. Explain the concept of generators in Python and how they are defined.\n",
    "#>>Generators in Python are a special type of iterable that allow lazy evaluation,\n",
    "   meaning they generate values on the fly instead of storing them all in memory at once.\n",
    "A generator is defined using a function that contains one or more yield statements instead of return.\n",
    "When the function is called, it doesn't execute immediately; instead, it returns a generator object that can be iterated over.\n",
    "The function's state is preserved between successive calls, allowing it to resume execution from where it last yielded a value.\n",
    "example:\n"
   ]
  },
  {
   "cell_type": "code",
   "execution_count": 1,
   "id": "c52b7668-aa2c-4647-a50d-65fd4e0c4437",
   "metadata": {},
   "outputs": [
    {
     "name": "stdout",
     "output_type": "stream",
     "text": [
      "1\n",
      "2\n",
      "3\n",
      "4\n",
      "5\n"
     ]
    }
   ],
   "source": [
    "def count_up_to(n):\n",
    "    count = 1\n",
    "    while count <= n:\n",
    "        yield count\n",
    "        count += 1\n",
    "\n",
    "# Using the generator\n",
    "counter = count_up_to(5)\n",
    "for num in counter:\n",
    "    print(num)\n"
   ]
  },
  {
   "cell_type": "code",
   "execution_count": null,
   "id": "7b84beb9-9d78-48ef-ae96-7c53b4bfc581",
   "metadata": {},
   "outputs": [],
   "source": [
    "#7. What are the advantages of using generators over regular functions?\n",
    "#>>Generators offer several advantages over regular functions, especially when working with \n",
    "large datasets or computationally expensive operations.\n",
    "\n",
    "\n",
    "Memory Efficiency\n",
    "Lazy Evaluation\n",
    "Simplified State Management\n",
    "Support for Infinite Sequences"
   ]
  },
  {
   "cell_type": "code",
   "execution_count": null,
   "id": "85f0c212-0cf2-452c-80d8-ba6f1863e943",
   "metadata": {},
   "outputs": [],
   "source": [
    "#8.  What is a lambda function in Python and when is it typically used?\n",
    "#>>A lambda function in Python is a small, anonymous function defined using the lambda keyword. \n",
    "It has no explicit def statement, and its primary purpose is to create concise, throwaway functions for simple operations.\n",
    "example:\n"
   ]
  },
  {
   "cell_type": "code",
   "execution_count": 2,
   "id": "4325cda3-ff07-49a7-b0cb-8ac0e7e5d6e6",
   "metadata": {},
   "outputs": [
    {
     "name": "stdout",
     "output_type": "stream",
     "text": [
      "[2, 4, 6, 8, 10]\n"
     ]
    }
   ],
   "source": [
    "numbers = [1, 2, 3, 4, 5]\n",
    "doubled = list(map(lambda x: x * 2, numbers))\n",
    "print(doubled)  \n"
   ]
  },
  {
   "cell_type": "code",
   "execution_count": null,
   "id": "056c1d42-8bc5-4516-a8e4-d812e9c96c1c",
   "metadata": {},
   "outputs": [],
   "source": [
    "# 9. Explain the purpose and usage of the `map()` function in Python.\n",
    "#The map() function in Python is used to apply a given function to all items in an iterable (e.g., a list or tuple) \n",
    "and return a new iterator with the transformed values.\n",
    "Purpose of map()\n",
    "Applies a function to each element of an iterable.\n",
    "\n",
    "Returns a map object (which is an iterator) to save memory.\n",
    "\n",
    "Helps write cleaner and more concise code.\n",
    "#example:     \n",
    "Using map() with a Built-in Function"
   ]
  },
  {
   "cell_type": "code",
   "execution_count": 3,
   "id": "9b2cb7d6-cc4e-4c0f-9077-d96da53b20fa",
   "metadata": {},
   "outputs": [
    {
     "name": "stdout",
     "output_type": "stream",
     "text": [
      "[1, 4, 9, 16, 25]\n"
     ]
    }
   ],
   "source": [
    "numbers = [1, 2, 3, 4, 5]\n",
    "squared_numbers = list(map(pow, numbers, [2]*len(numbers)))  # Square each number\n",
    "print(squared_numbers) "
   ]
  },
  {
   "cell_type": "code",
   "execution_count": null,
   "id": "8b22cc71-67da-4f53-8291-efdab6bc2800",
   "metadata": {},
   "outputs": [],
   "source": [
    " #10. What is the difference between `map()`, `reduce()`, and `filter()` functions in Python?\n",
    "\n",
    "1. map() – Applies a Function to Each Element                     \n",
    "\n",
    "Purpose: Transforms each item in an iterable using a function.\n",
    "\n",
    "Returns: A map object (iterator) with modified values.\n",
    "\n",
    "\n",
    "2. filter() – Selects Items Based on a Condition\n",
    "Purpose: Keeps only elements that satisfy a given condition.\n",
    "\n",
    "Returns: A filter object (iterator) with filtered values.\n",
    "\n",
    "\n",
    "3. reduce() – Aggregates Elements into a Single Value\n",
    "Purpose: Combines all items into a single value using a function.\n",
    "\n",
    "Returns: A single accumulated result.\n",
    "\n",
    "Requires: functools.reduce() from the functools module.\n",
    "    "
   ]
  },
  {
   "cell_type": "code",
   "execution_count": 5,
   "id": "4d66959d-3719-4228-8d17-6abbb2bc76aa",
   "metadata": {},
   "outputs": [
    {
     "name": "stdout",
     "output_type": "stream",
     "text": [
      "[1, 4, 9, 16]\n",
      "[2, 4, 6]\n",
      "10\n"
     ]
    }
   ],
   "source": [
    "#example of map()\n",
    "numbers = [1, 2, 3, 4]\n",
    "squared = list(map(lambda x: x ** 2, numbers))\n",
    "print(squared)  \n",
    "\n",
    "\n",
    "#example of filter()\n",
    "numbers = [1, 2, 3, 4, 5, 6]\n",
    "evens = list(filter(lambda x: x % 2 == 0, numbers))\n",
    "print(evens) \n",
    "\n",
    "\n",
    "#example of reduce()\n",
    "from functools import reduce\n",
    "\n",
    "numbers = [1, 2, 3, 4]\n",
    "total = reduce(lambda x, y: x + y, numbers)\n",
    "print(total)\n"
   ]
  },
  {
   "cell_type": "raw",
   "id": "83f88c70-0ad8-4231-953f-bf992ae87760",
   "metadata": {},
   "source": [
    "#11. Using pen & Paper write the internal mechanism for sum operation using reduce function on this given list:[47,11,42,13];\n"
   ]
  },
  {
   "cell_type": "code",
   "execution_count": null,
   "id": "52bd8cf6-9fcf-492f-bca4-7d5b08d8ea78",
   "metadata": {},
   "outputs": [],
   "source": [
    "                                       ###>>>>>>Practical Questions:"
   ]
  },
  {
   "cell_type": "code",
   "execution_count": null,
   "id": "6780fd93-fc94-4df8-9ab3-127c51052844",
   "metadata": {},
   "outputs": [],
   "source": [
    "##1.  1. Write a Python function that takes a list of numbers as input and returns the sum of all even numbers in \n",
    "the list."
   ]
  },
  {
   "cell_type": "code",
   "execution_count": 7,
   "id": "ba5b103c-d41e-44c2-a8e7-8cb7767861a2",
   "metadata": {},
   "outputs": [
    {
     "name": "stdout",
     "output_type": "stream",
     "text": [
      "56\n"
     ]
    }
   ],
   "source": [
    "def sum_even_numbers(numbers):\n",
    "    return sum(num for num in numbers if num % 2 == 0)\n",
    "\n",
    "# Example usage:\n",
    "numbers = [1, 2, 3, 4, 5, 6, 7, 8, 9, 10, 11, 12, 13, 14, 15]\n",
    "result = sum_even_numbers(numbers)\n",
    "print(result)\n"
   ]
  },
  {
   "cell_type": "code",
   "execution_count": null,
   "id": "f59dc020-7d48-4471-9d32-e9cad68efb18",
   "metadata": {},
   "outputs": [],
   "source": [
    "## 2. Create a Python function that accepts a string and returns the reverse of that string."
   ]
  },
  {
   "cell_type": "code",
   "execution_count": 8,
   "id": "81d49b42-e981-420e-bf84-a0922897bf20",
   "metadata": {},
   "outputs": [
    {
     "name": "stdout",
     "output_type": "stream",
     "text": [
      "nohtyP\n"
     ]
    }
   ],
   "source": [
    "def reverse_string(text):\n",
    "    return text[::-1]\n",
    "\n",
    "# Example usage:\n",
    "word = \"Python\"\n",
    "result = reverse_string(word)\n",
    "print(result)\n"
   ]
  },
  {
   "cell_type": "code",
   "execution_count": null,
   "id": "1bfcf548-7d26-4903-886d-f6bf031f0380",
   "metadata": {},
   "outputs": [],
   "source": [
    "##3. Implement a Python function that takes a list of integers and returns a new list containing the squares of each number."
   ]
  },
  {
   "cell_type": "code",
   "execution_count": 9,
   "id": "a938c10d-f75b-42f5-891b-1b825dacd868",
   "metadata": {},
   "outputs": [
    {
     "name": "stdout",
     "output_type": "stream",
     "text": [
      "[1, 4, 9, 16, 25]\n"
     ]
    }
   ],
   "source": [
    "def square_numbers(numbers):\n",
    "    return [num ** 2 for num in numbers]\n",
    "\n",
    "# Example usage:\n",
    "numbers = [1, 2, 3, 4, 5]\n",
    "squared_list = square_numbers(numbers)\n",
    "print(squared_list) "
   ]
  },
  {
   "cell_type": "code",
   "execution_count": null,
   "id": "6785bf14-8df2-405d-bd7a-d0267232c4f9",
   "metadata": {},
   "outputs": [],
   "source": [
    "## 4. Write a Python function that checks if a given number is prime or not from 1 to 200."
   ]
  },
  {
   "cell_type": "code",
   "execution_count": 10,
   "id": "f04526aa-1203-434d-b10f-d7a6b436c349",
   "metadata": {},
   "outputs": [
    {
     "name": "stdout",
     "output_type": "stream",
     "text": [
      "[2, 3, 5, 7, 11, 13, 17, 19, 23, 29, 31, 37, 41, 43, 47, 53, 59, 61, 67, 71, 73, 79, 83, 89, 97, 101, 103, 107, 109, 113, 127, 131, 137, 139, 149, 151, 157, 163, 167, 173, 179, 181, 191, 193, 197, 199]\n"
     ]
    }
   ],
   "source": [
    "def is_prime(n):\n",
    "    if n < 2:\n",
    "        return False\n",
    "    for i in range(2, int(n ** 0.5) + 1):  # Efficiently checks up to √n\n",
    "        if n % i == 0:\n",
    "            return False\n",
    "    return True\n",
    "\n",
    "# Checking prime numbers from 1 to 200\n",
    "primes = [num for num in range(1, 201) if is_prime(num)]\n",
    "print(primes)  "
   ]
  },
  {
   "cell_type": "code",
   "execution_count": null,
   "id": "bae0aa2a-3664-455f-8743-02c48e7473ba",
   "metadata": {},
   "outputs": [],
   "source": [
    "## 5. Create an iterator class in Python that generates the Fibonacci sequence up to a specified number of \n",
    "terms."
   ]
  },
  {
   "cell_type": "code",
   "execution_count": 11,
   "id": "48b0036d-fc55-43b5-aab1-f4646cb6a3e8",
   "metadata": {},
   "outputs": [
    {
     "name": "stdout",
     "output_type": "stream",
     "text": [
      "[0, 1, 1, 2, 3, 5, 8, 13, 21, 34]\n"
     ]
    }
   ],
   "source": [
    "class FibonacciIterator:\n",
    "    def __init__(self, n_terms):\n",
    "        self.n_terms = n_terms  # Total number of terms to generate\n",
    "        self.current = 0  # First Fibonacci number\n",
    "        self.next = 1  # Second Fibonacci number\n",
    "        self.count = 0  # Track iteration count\n",
    "\n",
    "    def __iter__(self):\n",
    "        return self  # Returning self as an iterator\n",
    "\n",
    "    def __next__(self):\n",
    "        if self.count >= self.n_terms:  # Stop iteration after n_terms\n",
    "            raise StopIteration\n",
    "        value = self.current\n",
    "        self.current, self.next = self.next, self.current + self.next  # Update Fibonacci values\n",
    "        self.count += 1\n",
    "        return value\n",
    "\n",
    "# Example usage:\n",
    "fib_iterator = FibonacciIterator(10)  # Generate first 10 Fibonacci numbers\n",
    "print(list(fib_iterator))  \n"
   ]
  },
  {
   "cell_type": "code",
   "execution_count": null,
   "id": "48ae6305-c517-4ff1-b0e6-d861a93a85e1",
   "metadata": {},
   "outputs": [],
   "source": [
    "##6. Write a generator function in Python that yields the powers of 2 up to a given exponent.\n"
   ]
  },
  {
   "cell_type": "code",
   "execution_count": 12,
   "id": "32cbbc0e-48cb-4568-9159-a5ca6314349d",
   "metadata": {},
   "outputs": [
    {
     "name": "stdout",
     "output_type": "stream",
     "text": [
      "[1, 2, 4, 8, 16, 32, 64, 128, 256, 512, 1024]\n"
     ]
    }
   ],
   "source": [
    "def power_of_two(max_exponent):\n",
    "    for exp in range(max_exponent + 1):\n",
    "        yield 2 ** exp\n",
    "\n",
    "# Example usage:\n",
    "powers = power_of_two(10)  # Generates powers of 2 up to 2^10\n",
    "print(list(powers)) \n"
   ]
  },
  {
   "cell_type": "code",
   "execution_count": null,
   "id": "6a93a423-45ba-451f-b5d3-33e20bc648f0",
   "metadata": {},
   "outputs": [],
   "source": [
    "##7. Implement a generator function that reads a file line by line and yields each line as a string.\n"
   ]
  },
  {
   "cell_type": "code",
   "execution_count": 16,
   "id": "fa5ed60f-2c4f-473d-8809-860954d9f078",
   "metadata": {},
   "outputs": [
    {
     "name": "stdout",
     "output_type": "stream",
     "text": [
      "Error: The file 'sample.txt' was not found.\n"
     ]
    }
   ],
   "source": [
    "def read_file_line_by_line(file_path):\n",
    "    \"\"\"Generator function to read a file line by line.\"\"\"\n",
    "    try:\n",
    "        with open(file_path, 'r') as file:\n",
    "            for line in file:\n",
    "                yield line.strip()  # Remove newline characters and extra spaces\n",
    "    except FileNotFoundError:\n",
    "        print(f\"Error: The file '{file_path}' was not found.\")\n",
    "\n",
    "# Example usage:\n",
    "file_generator = read_file_line_by_line('sample.txt')\n",
    "for line in file_generator:\n",
    "    print(line)  # Prints each line from 'sample.txt'\n"
   ]
  },
  {
   "cell_type": "code",
   "execution_count": null,
   "id": "e9e41628-2347-4191-b556-b5b8d2d28e3e",
   "metadata": {},
   "outputs": [],
   "source": [
    " ##8. Use a lambda function in Python to sort a list of tuples based on the second element of each tuple."
   ]
  },
  {
   "cell_type": "code",
   "execution_count": 17,
   "id": "caebe394-7b29-4d62-bc3d-92492d5cec93",
   "metadata": {},
   "outputs": [
    {
     "name": "stdout",
     "output_type": "stream",
     "text": [
      "[('Charlie', 20), ('Alice', 25), ('Bob', 30)]\n"
     ]
    }
   ],
   "source": [
    "data = [(\"Alice\", 25), (\"Bob\", 30), (\"Charlie\", 20)]\n",
    "\n",
    "# Sorting based on the second element (age)\n",
    "sorted_data = sorted(data, key=lambda x: x[1])\n",
    "\n",
    "print(sorted_data)  \n"
   ]
  },
  {
   "cell_type": "code",
   "execution_count": null,
   "id": "769353dc-8534-4854-ba05-73cafe3124db",
   "metadata": {},
   "outputs": [],
   "source": [
    "##9. Write a Python program that uses `map()` to convert a list of temperatures from Celsius to Fahrenheit."
   ]
  },
  {
   "cell_type": "code",
   "execution_count": 18,
   "id": "be0e7a4e-22e3-4089-9357-a5902313e145",
   "metadata": {},
   "outputs": [
    {
     "name": "stdout",
     "output_type": "stream",
     "text": [
      "[32.0, 50.0, 68.0, 86.0, 104.0, 212.0]\n"
     ]
    }
   ],
   "source": [
    "# Function to convert Celsius to Fahrenheit\n",
    "c_to_f = lambda c: (c * 9/5) + 32\n",
    "\n",
    "# List of temperatures in Celsius\n",
    "celsius_temperatures = [0, 10, 20, 30, 40, 100]\n",
    "\n",
    "# Applying map() to convert each Celsius value to Fahrenheit\n",
    "fahrenheit_temperatures = list(map(c_to_f, celsius_temperatures))\n",
    "\n",
    "print(fahrenheit_temperatures) "
   ]
  },
  {
   "cell_type": "code",
   "execution_count": null,
   "id": "d7faf9da-353b-4ea8-a958-3dc7da23ba2a",
   "metadata": {},
   "outputs": [],
   "source": [
    "## 10. Create a Python program that uses `filter()` to remove all the vowels from a given string"
   ]
  },
  {
   "cell_type": "code",
   "execution_count": 19,
   "id": "e7808791-40f8-4a4a-a8f7-8a05cc860212",
   "metadata": {},
   "outputs": [
    {
     "name": "stdout",
     "output_type": "stream",
     "text": [
      "Hll, Wrld!\n"
     ]
    }
   ],
   "source": [
    "def remove_vowels(text):\n",
    "    vowels = \"aeiouAEIOU\"\n",
    "    return ''.join(filter(lambda char: char not in vowels, text))\n",
    "\n",
    "# Example usage:\n",
    "input_string = \"Hello, World!\"\n",
    "result = remove_vowels(input_string)\n",
    "print(result) \n"
   ]
  },
  {
   "cell_type": "raw",
   "id": "515cadb8-c981-444c-abad-f3f5cdd9e516",
   "metadata": {},
   "source": [
    "## 11. Imagine an accounting routine used in a book shop. It works on a list with sublists, which look like this:\n",
    "\n",
    "order number                      book title and author                      quantity              price per item\n",
    "34587                             Learning python, Mark Lutz                    4                     40.95\n",
    "98762                             Programming Python, Mark Lutz                 5                     56.80\n",
    "77226                             Head First Python, Paul Barry                 3                     32.95\n",
    "88112                             Einfuhrung in Python3, Bernd Klein            3                     24.90\n",
    "\n",
    "\n",
    " \n",
    "Write a Python program, which returns a list with 2-tuples. Each tuple consists of the order number and the \n",
    "product of the price per item and the quantity. The product should be increased by 10,- € if the value of the \n",
    "order is smaller than 100,00 €.\n",
    " Write a Python program using lambda and map.\n",
    "    \n",
    "\n",
    "\n"
   ]
  },
  {
   "cell_type": "code",
   "execution_count": 20,
   "id": "61745b07-8a29-43cc-9aea-c9386f1d7d36",
   "metadata": {},
   "outputs": [
    {
     "name": "stdout",
     "output_type": "stream",
     "text": [
      "[(34587, 163.8), (98762, 284.0), (77226, 108.85000000000001), (88112, 84.69999999999999)]\n"
     ]
    }
   ],
   "source": [
    "# Sample order data\n",
    "orders = [\n",
    "    (34587, \"Learning Python, Mark Lutz\", 4, 40.95),\n",
    "    (98762, \"Programming Python, Mark Lutz\", 5, 56.80),\n",
    "    (77226, \"Head First Python, Paul Barry\", 3, 32.95),\n",
    "    (88112, \"Einführung in Python3, Bernd Klein\", 3, 24.90)\n",
    "]\n",
    "\n",
    "# Using lambda and map to compute order totals\n",
    "result = list(map(lambda order: (order[0], order[2] * order[3] + (10 if order[2] * order[3] < 100 else 0)), orders))\n",
    "\n",
    "# Output the processed orders\n",
    "print(result)\n"
   ]
  },
  {
   "cell_type": "code",
   "execution_count": null,
   "id": "376be651-5480-4b57-9d4b-eaf7d236e01c",
   "metadata": {},
   "outputs": [],
   "source": []
  }
 ],
 "metadata": {
  "kernelspec": {
   "display_name": "Python 3 (ipykernel)",
   "language": "python",
   "name": "python3"
  },
  "language_info": {
   "codemirror_mode": {
    "name": "ipython",
    "version": 3
   },
   "file_extension": ".py",
   "mimetype": "text/x-python",
   "name": "python",
   "nbconvert_exporter": "python",
   "pygments_lexer": "ipython3",
   "version": "3.12.7"
  }
 },
 "nbformat": 4,
 "nbformat_minor": 5
}
